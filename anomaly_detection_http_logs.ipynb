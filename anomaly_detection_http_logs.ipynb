{
  "cells": [
    {
      "cell_type": "code",
      "source": [
        "!pip install zat\n"
      ],
      "metadata": {
        "colab": {
          "base_uri": "https://localhost:8080/"
        },
        "id": "zMLlROrrU1H9",
        "outputId": "e321d4cc-6e93-4c29-8ff2-6417d5871c58"
      },
      "id": "zMLlROrrU1H9",
      "execution_count": null,
      "outputs": [
        {
          "output_type": "stream",
          "name": "stdout",
          "text": [
            "Requirement already satisfied: zat in /usr/local/lib/python3.10/dist-packages (0.4.6)\n",
            "Requirement already satisfied: requests in /usr/local/lib/python3.10/dist-packages (from zat) (2.31.0)\n",
            "Requirement already satisfied: watchdog in /usr/local/lib/python3.10/dist-packages (from zat) (3.0.0)\n",
            "Requirement already satisfied: pandas in /usr/local/lib/python3.10/dist-packages (from zat) (1.5.3)\n",
            "Requirement already satisfied: scikit-learn in /usr/local/lib/python3.10/dist-packages (from zat) (1.2.2)\n",
            "Requirement already satisfied: python-dateutil>=2.8.1 in /usr/local/lib/python3.10/dist-packages (from pandas->zat) (2.8.2)\n",
            "Requirement already satisfied: pytz>=2020.1 in /usr/local/lib/python3.10/dist-packages (from pandas->zat) (2023.3.post1)\n",
            "Requirement already satisfied: numpy>=1.21.0 in /usr/local/lib/python3.10/dist-packages (from pandas->zat) (1.23.5)\n",
            "Requirement already satisfied: charset-normalizer<4,>=2 in /usr/local/lib/python3.10/dist-packages (from requests->zat) (3.3.0)\n",
            "Requirement already satisfied: idna<4,>=2.5 in /usr/local/lib/python3.10/dist-packages (from requests->zat) (3.4)\n",
            "Requirement already satisfied: urllib3<3,>=1.21.1 in /usr/local/lib/python3.10/dist-packages (from requests->zat) (2.0.6)\n",
            "Requirement already satisfied: certifi>=2017.4.17 in /usr/local/lib/python3.10/dist-packages (from requests->zat) (2023.7.22)\n",
            "Requirement already satisfied: scipy>=1.3.2 in /usr/local/lib/python3.10/dist-packages (from scikit-learn->zat) (1.11.3)\n",
            "Requirement already satisfied: joblib>=1.1.1 in /usr/local/lib/python3.10/dist-packages (from scikit-learn->zat) (1.3.2)\n",
            "Requirement already satisfied: threadpoolctl>=2.0.0 in /usr/local/lib/python3.10/dist-packages (from scikit-learn->zat) (3.2.0)\n",
            "Requirement already satisfied: six>=1.5 in /usr/local/lib/python3.10/dist-packages (from python-dateutil>=2.8.1->pandas->zat) (1.16.0)\n"
          ]
        }
      ]
    },
    {
      "cell_type": "code",
      "source": [],
      "metadata": {
        "id": "KrY-Wyoxsp3p"
      },
      "id": "KrY-Wyoxsp3p",
      "execution_count": null,
      "outputs": []
    },
    {
      "cell_type": "code",
      "execution_count": null,
      "id": "a8a7cc11",
      "metadata": {
        "id": "a8a7cc11"
      },
      "outputs": [],
      "source": [
        "import numpy as np\n",
        "import pandas as pd\n",
        "import matplotlib.pyplot as plt\n",
        "import tensorflow as tf\n",
        "import pandas as pd\n",
        "import glob\n",
        "import os\n",
        "from tensorflow.keras.layers import Input, Dense\n",
        "from tensorflow.keras.models import Model\n",
        "from sklearn.preprocessing import MinMaxScaler\n",
        "from sklearn.model_selection import train_test_split\n",
        "from sklearn.preprocessing import StandardScaler, OneHotEncoder,LabelEncoder\n",
        "from tensorflow.keras.models import Model\n",
        "from tensorflow.keras.layers import Input, Dense, concatenate\n"
      ]
    },
    {
      "cell_type": "code",
      "source": [
        "!pip freeze > requirements.txt\n",
        "from google.colab import files\n",
        "files.download('requirements.txt')"
      ],
      "metadata": {
        "colab": {
          "base_uri": "https://localhost:8080/",
          "height": 17
        },
        "id": "DwvWshpMzHsa",
        "outputId": "46beadc3-821c-47f1-86b6-90158d0ef215"
      },
      "id": "DwvWshpMzHsa",
      "execution_count": null,
      "outputs": [
        {
          "output_type": "display_data",
          "data": {
            "text/plain": [
              "<IPython.core.display.Javascript object>"
            ],
            "application/javascript": [
              "\n",
              "    async function download(id, filename, size) {\n",
              "      if (!google.colab.kernel.accessAllowed) {\n",
              "        return;\n",
              "      }\n",
              "      const div = document.createElement('div');\n",
              "      const label = document.createElement('label');\n",
              "      label.textContent = `Downloading \"${filename}\": `;\n",
              "      div.appendChild(label);\n",
              "      const progress = document.createElement('progress');\n",
              "      progress.max = size;\n",
              "      div.appendChild(progress);\n",
              "      document.body.appendChild(div);\n",
              "\n",
              "      const buffers = [];\n",
              "      let downloaded = 0;\n",
              "\n",
              "      const channel = await google.colab.kernel.comms.open(id);\n",
              "      // Send a message to notify the kernel that we're ready.\n",
              "      channel.send({})\n",
              "\n",
              "      for await (const message of channel.messages) {\n",
              "        // Send a message to notify the kernel that we're ready.\n",
              "        channel.send({})\n",
              "        if (message.buffers) {\n",
              "          for (const buffer of message.buffers) {\n",
              "            buffers.push(buffer);\n",
              "            downloaded += buffer.byteLength;\n",
              "            progress.value = downloaded;\n",
              "          }\n",
              "        }\n",
              "      }\n",
              "      const blob = new Blob(buffers, {type: 'application/binary'});\n",
              "      const a = document.createElement('a');\n",
              "      a.href = window.URL.createObjectURL(blob);\n",
              "      a.download = filename;\n",
              "      div.appendChild(a);\n",
              "      a.click();\n",
              "      div.remove();\n",
              "    }\n",
              "  "
            ]
          },
          "metadata": {}
        },
        {
          "output_type": "display_data",
          "data": {
            "text/plain": [
              "<IPython.core.display.Javascript object>"
            ],
            "application/javascript": [
              "download(\"download_603976b0-3a30-4612-a3c7-d0f9d51b7116\", \"requirements.txt\", 9601)"
            ]
          },
          "metadata": {}
        }
      ]
    },
    {
      "cell_type": "code",
      "source": [
        "from google.colab import drive\n",
        "drive.mount('/content/drive')"
      ],
      "metadata": {
        "colab": {
          "base_uri": "https://localhost:8080/"
        },
        "id": "a4q0xEVYJNLw",
        "outputId": "5b35cd27-c132-435a-9b7c-0d859dd08ba7"
      },
      "id": "a4q0xEVYJNLw",
      "execution_count": null,
      "outputs": [
        {
          "output_type": "stream",
          "name": "stdout",
          "text": [
            "Mounted at /content/drive\n"
          ]
        }
      ]
    },
    {
      "cell_type": "code",
      "source": [
        "path = '/content/drive/MyDrive/Anomaly detection/http.log'"
      ],
      "metadata": {
        "id": "8RIHLcz-WnmZ"
      },
      "id": "8RIHLcz-WnmZ",
      "execution_count": null,
      "outputs": []
    },
    {
      "cell_type": "code",
      "source": [
        "log_to_df = LogToDataFrame()\n",
        "columns = ['ts','uid','id.orig_h','id.orig_p','id.resp_h','id.resp_p','trans_depth','method','host','uri','referrer','version','user_agent','origin','request_body_len','response_body_len'\t,'status_code','status_msg','info_code','info_msg','tags','username','password','proxied','orig_fuids','orig_filenames','orig_mime_types','resp_fuids','resp_filenames','resp_mime_types']\n",
        "df = pd.read_csv(path, sep=\"\\t\", comment=\"#\", header=None, names=columns)"
      ],
      "metadata": {
        "id": "dLtx4l6qWCLk"
      },
      "id": "dLtx4l6qWCLk",
      "execution_count": null,
      "outputs": []
    },
    {
      "cell_type": "code",
      "source": [
        "df.head()"
      ],
      "metadata": {
        "colab": {
          "base_uri": "https://localhost:8080/",
          "height": 255
        },
        "id": "GXx5tc6JX3TL",
        "outputId": "12568c67-2954-40ad-f635-782d9fc61eeb"
      },
      "id": "GXx5tc6JX3TL",
      "execution_count": null,
      "outputs": [
        {
          "output_type": "execute_result",
          "data": {
            "text/plain": [
              "             ts                 uid        id.orig_h  id.orig_p  \\\n",
              "0  1.691244e+09  CaHBXP3gSfZElnD9N2  192.168.130.134      45794   \n",
              "1  1.691244e+09  CaHBXP3gSfZElnD9N2  192.168.130.134      45794   \n",
              "2  1.691244e+09  CaHBXP3gSfZElnD9N2  192.168.130.134      45794   \n",
              "3  1.691244e+09  C1OFpZ3DCcZLORvBgf  192.168.130.134      55832   \n",
              "4  1.691244e+09  C1OFpZ3DCcZLORvBgf  192.168.130.134      55832   \n",
              "\n",
              "       id.resp_h  id.resp_p  trans_depth method host uri  ...     tags  \\\n",
              "0  104.18.114.97         80            1      -    -   -  ...  (empty)   \n",
              "1  104.18.114.97         80            2      -    -   -  ...  (empty)   \n",
              "2  104.18.114.97         80            3      -    -   -  ...  (empty)   \n",
              "3    20.40.202.3         80            1      -    -   -  ...  (empty)   \n",
              "4    20.40.202.3         80            2      -    -   -  ...  (empty)   \n",
              "\n",
              "   username password proxied  orig_fuids  orig_filenames  orig_mime_types  \\\n",
              "0         -        -       -           -               -                -   \n",
              "1         -        -       -           -               -                -   \n",
              "2         -        -       -           -               -                -   \n",
              "3         -        -       -           -               -                -   \n",
              "4         -        -       -           -               -                -   \n",
              "\n",
              "           resp_fuids resp_filenames resp_mime_types  \n",
              "0  FQVLic1thm2BY5pf5h              -      text/plain  \n",
              "1  FExfkp27U2c85JFofa              -      text/plain  \n",
              "2  FylL2E1ZcfVXkD9bGh              -      text/plain  \n",
              "3  FwnqAA3xCMOyIaP9li              -       text/html  \n",
              "4   F425of9JaIjqpmbgb              -               -  \n",
              "\n",
              "[5 rows x 30 columns]"
            ],
            "text/html": [
              "\n",
              "  <div id=\"df-c2df0fb0-3604-4d85-97dc-f6f645eb0e8e\" class=\"colab-df-container\">\n",
              "    <div>\n",
              "<style scoped>\n",
              "    .dataframe tbody tr th:only-of-type {\n",
              "        vertical-align: middle;\n",
              "    }\n",
              "\n",
              "    .dataframe tbody tr th {\n",
              "        vertical-align: top;\n",
              "    }\n",
              "\n",
              "    .dataframe thead th {\n",
              "        text-align: right;\n",
              "    }\n",
              "</style>\n",
              "<table border=\"1\" class=\"dataframe\">\n",
              "  <thead>\n",
              "    <tr style=\"text-align: right;\">\n",
              "      <th></th>\n",
              "      <th>ts</th>\n",
              "      <th>uid</th>\n",
              "      <th>id.orig_h</th>\n",
              "      <th>id.orig_p</th>\n",
              "      <th>id.resp_h</th>\n",
              "      <th>id.resp_p</th>\n",
              "      <th>trans_depth</th>\n",
              "      <th>method</th>\n",
              "      <th>host</th>\n",
              "      <th>uri</th>\n",
              "      <th>...</th>\n",
              "      <th>tags</th>\n",
              "      <th>username</th>\n",
              "      <th>password</th>\n",
              "      <th>proxied</th>\n",
              "      <th>orig_fuids</th>\n",
              "      <th>orig_filenames</th>\n",
              "      <th>orig_mime_types</th>\n",
              "      <th>resp_fuids</th>\n",
              "      <th>resp_filenames</th>\n",
              "      <th>resp_mime_types</th>\n",
              "    </tr>\n",
              "  </thead>\n",
              "  <tbody>\n",
              "    <tr>\n",
              "      <th>0</th>\n",
              "      <td>1.691244e+09</td>\n",
              "      <td>CaHBXP3gSfZElnD9N2</td>\n",
              "      <td>192.168.130.134</td>\n",
              "      <td>45794</td>\n",
              "      <td>104.18.114.97</td>\n",
              "      <td>80</td>\n",
              "      <td>1</td>\n",
              "      <td>-</td>\n",
              "      <td>-</td>\n",
              "      <td>-</td>\n",
              "      <td>...</td>\n",
              "      <td>(empty)</td>\n",
              "      <td>-</td>\n",
              "      <td>-</td>\n",
              "      <td>-</td>\n",
              "      <td>-</td>\n",
              "      <td>-</td>\n",
              "      <td>-</td>\n",
              "      <td>FQVLic1thm2BY5pf5h</td>\n",
              "      <td>-</td>\n",
              "      <td>text/plain</td>\n",
              "    </tr>\n",
              "    <tr>\n",
              "      <th>1</th>\n",
              "      <td>1.691244e+09</td>\n",
              "      <td>CaHBXP3gSfZElnD9N2</td>\n",
              "      <td>192.168.130.134</td>\n",
              "      <td>45794</td>\n",
              "      <td>104.18.114.97</td>\n",
              "      <td>80</td>\n",
              "      <td>2</td>\n",
              "      <td>-</td>\n",
              "      <td>-</td>\n",
              "      <td>-</td>\n",
              "      <td>...</td>\n",
              "      <td>(empty)</td>\n",
              "      <td>-</td>\n",
              "      <td>-</td>\n",
              "      <td>-</td>\n",
              "      <td>-</td>\n",
              "      <td>-</td>\n",
              "      <td>-</td>\n",
              "      <td>FExfkp27U2c85JFofa</td>\n",
              "      <td>-</td>\n",
              "      <td>text/plain</td>\n",
              "    </tr>\n",
              "    <tr>\n",
              "      <th>2</th>\n",
              "      <td>1.691244e+09</td>\n",
              "      <td>CaHBXP3gSfZElnD9N2</td>\n",
              "      <td>192.168.130.134</td>\n",
              "      <td>45794</td>\n",
              "      <td>104.18.114.97</td>\n",
              "      <td>80</td>\n",
              "      <td>3</td>\n",
              "      <td>-</td>\n",
              "      <td>-</td>\n",
              "      <td>-</td>\n",
              "      <td>...</td>\n",
              "      <td>(empty)</td>\n",
              "      <td>-</td>\n",
              "      <td>-</td>\n",
              "      <td>-</td>\n",
              "      <td>-</td>\n",
              "      <td>-</td>\n",
              "      <td>-</td>\n",
              "      <td>FylL2E1ZcfVXkD9bGh</td>\n",
              "      <td>-</td>\n",
              "      <td>text/plain</td>\n",
              "    </tr>\n",
              "    <tr>\n",
              "      <th>3</th>\n",
              "      <td>1.691244e+09</td>\n",
              "      <td>C1OFpZ3DCcZLORvBgf</td>\n",
              "      <td>192.168.130.134</td>\n",
              "      <td>55832</td>\n",
              "      <td>20.40.202.3</td>\n",
              "      <td>80</td>\n",
              "      <td>1</td>\n",
              "      <td>-</td>\n",
              "      <td>-</td>\n",
              "      <td>-</td>\n",
              "      <td>...</td>\n",
              "      <td>(empty)</td>\n",
              "      <td>-</td>\n",
              "      <td>-</td>\n",
              "      <td>-</td>\n",
              "      <td>-</td>\n",
              "      <td>-</td>\n",
              "      <td>-</td>\n",
              "      <td>FwnqAA3xCMOyIaP9li</td>\n",
              "      <td>-</td>\n",
              "      <td>text/html</td>\n",
              "    </tr>\n",
              "    <tr>\n",
              "      <th>4</th>\n",
              "      <td>1.691244e+09</td>\n",
              "      <td>C1OFpZ3DCcZLORvBgf</td>\n",
              "      <td>192.168.130.134</td>\n",
              "      <td>55832</td>\n",
              "      <td>20.40.202.3</td>\n",
              "      <td>80</td>\n",
              "      <td>2</td>\n",
              "      <td>-</td>\n",
              "      <td>-</td>\n",
              "      <td>-</td>\n",
              "      <td>...</td>\n",
              "      <td>(empty)</td>\n",
              "      <td>-</td>\n",
              "      <td>-</td>\n",
              "      <td>-</td>\n",
              "      <td>-</td>\n",
              "      <td>-</td>\n",
              "      <td>-</td>\n",
              "      <td>F425of9JaIjqpmbgb</td>\n",
              "      <td>-</td>\n",
              "      <td>-</td>\n",
              "    </tr>\n",
              "  </tbody>\n",
              "</table>\n",
              "<p>5 rows × 30 columns</p>\n",
              "</div>\n",
              "    <div class=\"colab-df-buttons\">\n",
              "\n",
              "  <div class=\"colab-df-container\">\n",
              "    <button class=\"colab-df-convert\" onclick=\"convertToInteractive('df-c2df0fb0-3604-4d85-97dc-f6f645eb0e8e')\"\n",
              "            title=\"Convert this dataframe to an interactive table.\"\n",
              "            style=\"display:none;\">\n",
              "\n",
              "  <svg xmlns=\"http://www.w3.org/2000/svg\" height=\"24px\" viewBox=\"0 -960 960 960\">\n",
              "    <path d=\"M120-120v-720h720v720H120Zm60-500h600v-160H180v160Zm220 220h160v-160H400v160Zm0 220h160v-160H400v160ZM180-400h160v-160H180v160Zm440 0h160v-160H620v160ZM180-180h160v-160H180v160Zm440 0h160v-160H620v160Z\"/>\n",
              "  </svg>\n",
              "    </button>\n",
              "\n",
              "  <style>\n",
              "    .colab-df-container {\n",
              "      display:flex;\n",
              "      gap: 12px;\n",
              "    }\n",
              "\n",
              "    .colab-df-convert {\n",
              "      background-color: #E8F0FE;\n",
              "      border: none;\n",
              "      border-radius: 50%;\n",
              "      cursor: pointer;\n",
              "      display: none;\n",
              "      fill: #1967D2;\n",
              "      height: 32px;\n",
              "      padding: 0 0 0 0;\n",
              "      width: 32px;\n",
              "    }\n",
              "\n",
              "    .colab-df-convert:hover {\n",
              "      background-color: #E2EBFA;\n",
              "      box-shadow: 0px 1px 2px rgba(60, 64, 67, 0.3), 0px 1px 3px 1px rgba(60, 64, 67, 0.15);\n",
              "      fill: #174EA6;\n",
              "    }\n",
              "\n",
              "    .colab-df-buttons div {\n",
              "      margin-bottom: 4px;\n",
              "    }\n",
              "\n",
              "    [theme=dark] .colab-df-convert {\n",
              "      background-color: #3B4455;\n",
              "      fill: #D2E3FC;\n",
              "    }\n",
              "\n",
              "    [theme=dark] .colab-df-convert:hover {\n",
              "      background-color: #434B5C;\n",
              "      box-shadow: 0px 1px 3px 1px rgba(0, 0, 0, 0.15);\n",
              "      filter: drop-shadow(0px 1px 2px rgba(0, 0, 0, 0.3));\n",
              "      fill: #FFFFFF;\n",
              "    }\n",
              "  </style>\n",
              "\n",
              "    <script>\n",
              "      const buttonEl =\n",
              "        document.querySelector('#df-c2df0fb0-3604-4d85-97dc-f6f645eb0e8e button.colab-df-convert');\n",
              "      buttonEl.style.display =\n",
              "        google.colab.kernel.accessAllowed ? 'block' : 'none';\n",
              "\n",
              "      async function convertToInteractive(key) {\n",
              "        const element = document.querySelector('#df-c2df0fb0-3604-4d85-97dc-f6f645eb0e8e');\n",
              "        const dataTable =\n",
              "          await google.colab.kernel.invokeFunction('convertToInteractive',\n",
              "                                                    [key], {});\n",
              "        if (!dataTable) return;\n",
              "\n",
              "        const docLinkHtml = 'Like what you see? Visit the ' +\n",
              "          '<a target=\"_blank\" href=https://colab.research.google.com/notebooks/data_table.ipynb>data table notebook</a>'\n",
              "          + ' to learn more about interactive tables.';\n",
              "        element.innerHTML = '';\n",
              "        dataTable['output_type'] = 'display_data';\n",
              "        await google.colab.output.renderOutput(dataTable, element);\n",
              "        const docLink = document.createElement('div');\n",
              "        docLink.innerHTML = docLinkHtml;\n",
              "        element.appendChild(docLink);\n",
              "      }\n",
              "    </script>\n",
              "  </div>\n",
              "\n",
              "\n",
              "<div id=\"df-ca80fa25-cf25-4102-b00c-13f37d03f030\">\n",
              "  <button class=\"colab-df-quickchart\" onclick=\"quickchart('df-ca80fa25-cf25-4102-b00c-13f37d03f030')\"\n",
              "            title=\"Suggest charts.\"\n",
              "            style=\"display:none;\">\n",
              "\n",
              "<svg xmlns=\"http://www.w3.org/2000/svg\" height=\"24px\"viewBox=\"0 0 24 24\"\n",
              "     width=\"24px\">\n",
              "    <g>\n",
              "        <path d=\"M19 3H5c-1.1 0-2 .9-2 2v14c0 1.1.9 2 2 2h14c1.1 0 2-.9 2-2V5c0-1.1-.9-2-2-2zM9 17H7v-7h2v7zm4 0h-2V7h2v10zm4 0h-2v-4h2v4z\"/>\n",
              "    </g>\n",
              "</svg>\n",
              "  </button>\n",
              "\n",
              "<style>\n",
              "  .colab-df-quickchart {\n",
              "      --bg-color: #E8F0FE;\n",
              "      --fill-color: #1967D2;\n",
              "      --hover-bg-color: #E2EBFA;\n",
              "      --hover-fill-color: #174EA6;\n",
              "      --disabled-fill-color: #AAA;\n",
              "      --disabled-bg-color: #DDD;\n",
              "  }\n",
              "\n",
              "  [theme=dark] .colab-df-quickchart {\n",
              "      --bg-color: #3B4455;\n",
              "      --fill-color: #D2E3FC;\n",
              "      --hover-bg-color: #434B5C;\n",
              "      --hover-fill-color: #FFFFFF;\n",
              "      --disabled-bg-color: #3B4455;\n",
              "      --disabled-fill-color: #666;\n",
              "  }\n",
              "\n",
              "  .colab-df-quickchart {\n",
              "    background-color: var(--bg-color);\n",
              "    border: none;\n",
              "    border-radius: 50%;\n",
              "    cursor: pointer;\n",
              "    display: none;\n",
              "    fill: var(--fill-color);\n",
              "    height: 32px;\n",
              "    padding: 0;\n",
              "    width: 32px;\n",
              "  }\n",
              "\n",
              "  .colab-df-quickchart:hover {\n",
              "    background-color: var(--hover-bg-color);\n",
              "    box-shadow: 0 1px 2px rgba(60, 64, 67, 0.3), 0 1px 3px 1px rgba(60, 64, 67, 0.15);\n",
              "    fill: var(--button-hover-fill-color);\n",
              "  }\n",
              "\n",
              "  .colab-df-quickchart-complete:disabled,\n",
              "  .colab-df-quickchart-complete:disabled:hover {\n",
              "    background-color: var(--disabled-bg-color);\n",
              "    fill: var(--disabled-fill-color);\n",
              "    box-shadow: none;\n",
              "  }\n",
              "\n",
              "  .colab-df-spinner {\n",
              "    border: 2px solid var(--fill-color);\n",
              "    border-color: transparent;\n",
              "    border-bottom-color: var(--fill-color);\n",
              "    animation:\n",
              "      spin 1s steps(1) infinite;\n",
              "  }\n",
              "\n",
              "  @keyframes spin {\n",
              "    0% {\n",
              "      border-color: transparent;\n",
              "      border-bottom-color: var(--fill-color);\n",
              "      border-left-color: var(--fill-color);\n",
              "    }\n",
              "    20% {\n",
              "      border-color: transparent;\n",
              "      border-left-color: var(--fill-color);\n",
              "      border-top-color: var(--fill-color);\n",
              "    }\n",
              "    30% {\n",
              "      border-color: transparent;\n",
              "      border-left-color: var(--fill-color);\n",
              "      border-top-color: var(--fill-color);\n",
              "      border-right-color: var(--fill-color);\n",
              "    }\n",
              "    40% {\n",
              "      border-color: transparent;\n",
              "      border-right-color: var(--fill-color);\n",
              "      border-top-color: var(--fill-color);\n",
              "    }\n",
              "    60% {\n",
              "      border-color: transparent;\n",
              "      border-right-color: var(--fill-color);\n",
              "    }\n",
              "    80% {\n",
              "      border-color: transparent;\n",
              "      border-right-color: var(--fill-color);\n",
              "      border-bottom-color: var(--fill-color);\n",
              "    }\n",
              "    90% {\n",
              "      border-color: transparent;\n",
              "      border-bottom-color: var(--fill-color);\n",
              "    }\n",
              "  }\n",
              "</style>\n",
              "\n",
              "  <script>\n",
              "    async function quickchart(key) {\n",
              "      const quickchartButtonEl =\n",
              "        document.querySelector('#' + key + ' button');\n",
              "      quickchartButtonEl.disabled = true;  // To prevent multiple clicks.\n",
              "      quickchartButtonEl.classList.add('colab-df-spinner');\n",
              "      try {\n",
              "        const charts = await google.colab.kernel.invokeFunction(\n",
              "            'suggestCharts', [key], {});\n",
              "      } catch (error) {\n",
              "        console.error('Error during call to suggestCharts:', error);\n",
              "      }\n",
              "      quickchartButtonEl.classList.remove('colab-df-spinner');\n",
              "      quickchartButtonEl.classList.add('colab-df-quickchart-complete');\n",
              "    }\n",
              "    (() => {\n",
              "      let quickchartButtonEl =\n",
              "        document.querySelector('#df-ca80fa25-cf25-4102-b00c-13f37d03f030 button');\n",
              "      quickchartButtonEl.style.display =\n",
              "        google.colab.kernel.accessAllowed ? 'block' : 'none';\n",
              "    })();\n",
              "  </script>\n",
              "</div>\n",
              "    </div>\n",
              "  </div>\n"
            ]
          },
          "metadata": {},
          "execution_count": 5
        }
      ]
    },
    {
      "cell_type": "code",
      "execution_count": null,
      "id": "26e371fd",
      "metadata": {
        "colab": {
          "base_uri": "https://localhost:8080/"
        },
        "id": "26e371fd",
        "outputId": "43cfe6c2-e059-418b-b77a-603fd58dd45b"
      },
      "outputs": [
        {
          "output_type": "execute_result",
          "data": {
            "text/plain": [
              "(302, 30)"
            ]
          },
          "metadata": {},
          "execution_count": 6
        }
      ],
      "source": [
        "df.shape"
      ]
    },
    {
      "cell_type": "code",
      "execution_count": null,
      "id": "30cf7834",
      "metadata": {
        "colab": {
          "base_uri": "https://localhost:8080/"
        },
        "id": "30cf7834",
        "outputId": "17892583-c757-42c0-c9cf-0e098619aa38"
      },
      "outputs": [
        {
          "output_type": "execute_result",
          "data": {
            "text/plain": [
              "Index(['ts', 'uid', 'id.orig_h', 'id.orig_p', 'id.resp_h', 'id.resp_p',\n",
              "       'trans_depth', 'method', 'host', 'uri', 'referrer', 'version',\n",
              "       'user_agent', 'origin', 'request_body_len', 'response_body_len',\n",
              "       'status_code', 'status_msg', 'info_code', 'info_msg', 'tags',\n",
              "       'username', 'password', 'proxied', 'orig_fuids', 'orig_filenames',\n",
              "       'orig_mime_types', 'resp_fuids', 'resp_filenames', 'resp_mime_types'],\n",
              "      dtype='object')"
            ]
          },
          "metadata": {},
          "execution_count": 7
        }
      ],
      "source": [
        "df.columns"
      ]
    },
    {
      "cell_type": "code",
      "source": [
        "df = df.drop(['ts','trans_depth', 'host', 'uri','uid','id.orig_h','id.resp_h',\n",
        "        'version',  'status_code', 'info_msg', 'tags','status_msg',\n",
        "       'username', 'password', 'proxied', 'orig_fuids', 'orig_filenames',\n",
        "       'orig_mime_types', 'resp_fuids', 'resp_filenames', 'resp_mime_types'],axis=1)"
      ],
      "metadata": {
        "id": "0totw6SCIEfj"
      },
      "id": "0totw6SCIEfj",
      "execution_count": null,
      "outputs": []
    },
    {
      "cell_type": "code",
      "execution_count": null,
      "id": "d9b3028a",
      "metadata": {
        "colab": {
          "base_uri": "https://localhost:8080/"
        },
        "id": "d9b3028a",
        "outputId": "7efe4403-f8d4-4717-971b-5a2d5ff9cfa8"
      },
      "outputs": [
        {
          "output_type": "execute_result",
          "data": {
            "text/plain": [
              "id.orig_p            0\n",
              "id.resp_p            0\n",
              "method               0\n",
              "referrer             0\n",
              "user_agent           0\n",
              "origin               0\n",
              "request_body_len     0\n",
              "response_body_len    0\n",
              "info_code            0\n",
              "dtype: int64"
            ]
          },
          "metadata": {},
          "execution_count": 9
        }
      ],
      "source": [
        "df.isnull().sum()"
      ]
    },
    {
      "cell_type": "code",
      "execution_count": null,
      "id": "e521dd24",
      "metadata": {
        "id": "e521dd24",
        "colab": {
          "base_uri": "https://localhost:8080/"
        },
        "outputId": "987b5d3d-cf3d-4937-d694-eefd11f17c1d"
      },
      "outputs": [
        {
          "output_type": "execute_result",
          "data": {
            "text/plain": [
              "<bound method Series.unique of 0      -\n",
              "1      -\n",
              "2      -\n",
              "3      -\n",
              "4      -\n",
              "      ..\n",
              "297    -\n",
              "298    -\n",
              "299    -\n",
              "300    -\n",
              "301    -\n",
              "Name: method, Length: 302, dtype: object>"
            ]
          },
          "metadata": {},
          "execution_count": 10
        }
      ],
      "source": [
        "df['method'].unique"
      ]
    },
    {
      "cell_type": "code",
      "execution_count": null,
      "id": "4163fa3e",
      "metadata": {
        "id": "4163fa3e"
      },
      "outputs": [],
      "source": [
        "# Separate categorical and numerical features\n",
        "\n",
        "numerical_features = df.select_dtypes(include=['float64', 'int64']).columns\n",
        "# categorical_features = df.select_dtypes(include=['object']).columns\n",
        "\n",
        "# label_encoder = LabelEncoder()\n",
        "# for feature in categorical_features:\n",
        "#     print(df[feature].unique())\n",
        "#     df[feature]=label_encoder.fit_transform(df[feature])\n",
        "#     print(df[feature].unique())\n",
        "\n",
        "\n",
        "# Preprocessing - Numerical features (Standard Scaling)\n",
        "scaler = StandardScaler()\n",
        "scaled_features = scaler.fit_transform(df[numerical_features])"
      ]
    },
    {
      "cell_type": "code",
      "source": [
        "numerical_features#, categorical_features"
      ],
      "metadata": {
        "colab": {
          "base_uri": "https://localhost:8080/"
        },
        "id": "iwUSvFTlZDm8",
        "outputId": "a120b254-5ca2-402b-8cd3-a22f9d485af8"
      },
      "id": "iwUSvFTlZDm8",
      "execution_count": null,
      "outputs": [
        {
          "output_type": "execute_result",
          "data": {
            "text/plain": [
              "Index(['id.orig_p', 'id.resp_p', 'method', 'referrer', 'user_agent', 'origin',\n",
              "       'request_body_len', 'response_body_len', 'info_code'],\n",
              "      dtype='object')"
            ]
          },
          "metadata": {},
          "execution_count": 14
        }
      ]
    },
    {
      "cell_type": "code",
      "execution_count": null,
      "id": "13628062",
      "metadata": {
        "id": "13628062"
      },
      "outputs": [],
      "source": [
        "X_train = scaled_features\n",
        "\n",
        "\n",
        "input_dim = X_train.shape[1]\n",
        "encoding_dim = 32\n",
        "\n",
        "input_layer = Input(shape=(input_dim,))\n",
        "encoder = Dense(encoding_dim, activation='relu')(input_layer)\n",
        "decoder = Dense(input_dim, activation='sigmoid')(encoder)\n",
        "\n",
        "autoencoder = Model(inputs=input_layer, outputs=decoder)"
      ]
    },
    {
      "cell_type": "code",
      "execution_count": null,
      "id": "690367cb",
      "metadata": {
        "colab": {
          "base_uri": "https://localhost:8080/"
        },
        "id": "690367cb",
        "outputId": "ceed5cb7-bdfa-46e9-b93e-159b7c0bd9f1"
      },
      "outputs": [
        {
          "output_type": "stream",
          "name": "stdout",
          "text": [
            "Epoch 1/30\n",
            "5/5 [==============================] - 1s 5ms/step - loss: 0.4532\n",
            "Epoch 2/30\n",
            "5/5 [==============================] - 0s 3ms/step - loss: 0.4458\n",
            "Epoch 3/30\n",
            "5/5 [==============================] - 0s 3ms/step - loss: 0.4382\n",
            "Epoch 4/30\n",
            "5/5 [==============================] - 0s 3ms/step - loss: 0.4308\n",
            "Epoch 5/30\n",
            "5/5 [==============================] - 0s 3ms/step - loss: 0.4231\n",
            "Epoch 6/30\n",
            "5/5 [==============================] - 0s 4ms/step - loss: 0.4154\n",
            "Epoch 7/30\n",
            "5/5 [==============================] - 0s 3ms/step - loss: 0.4076\n",
            "Epoch 8/30\n",
            "5/5 [==============================] - 0s 3ms/step - loss: 0.3996\n",
            "Epoch 9/30\n",
            "5/5 [==============================] - 0s 3ms/step - loss: 0.3913\n",
            "Epoch 10/30\n",
            "5/5 [==============================] - 0s 3ms/step - loss: 0.3830\n",
            "Epoch 11/30\n",
            "5/5 [==============================] - 0s 3ms/step - loss: 0.3744\n",
            "Epoch 12/30\n",
            "5/5 [==============================] - 0s 3ms/step - loss: 0.3657\n",
            "Epoch 13/30\n",
            "5/5 [==============================] - 0s 3ms/step - loss: 0.3568\n",
            "Epoch 14/30\n",
            "5/5 [==============================] - 0s 3ms/step - loss: 0.3479\n",
            "Epoch 15/30\n",
            "5/5 [==============================] - 0s 3ms/step - loss: 0.3386\n",
            "Epoch 16/30\n",
            "5/5 [==============================] - 0s 3ms/step - loss: 0.3296\n",
            "Epoch 17/30\n",
            "5/5 [==============================] - 0s 3ms/step - loss: 0.3202\n",
            "Epoch 18/30\n",
            "5/5 [==============================] - 0s 3ms/step - loss: 0.3109\n",
            "Epoch 19/30\n",
            "5/5 [==============================] - 0s 4ms/step - loss: 0.3023\n",
            "Epoch 20/30\n",
            "5/5 [==============================] - 0s 4ms/step - loss: 0.2930\n",
            "Epoch 21/30\n",
            "5/5 [==============================] - 0s 4ms/step - loss: 0.2849\n",
            "Epoch 22/30\n",
            "5/5 [==============================] - 0s 5ms/step - loss: 0.2764\n",
            "Epoch 23/30\n",
            "5/5 [==============================] - 0s 4ms/step - loss: 0.2683\n",
            "Epoch 24/30\n",
            "5/5 [==============================] - 0s 4ms/step - loss: 0.2610\n",
            "Epoch 25/30\n",
            "5/5 [==============================] - 0s 4ms/step - loss: 0.2538\n",
            "Epoch 26/30\n",
            "5/5 [==============================] - 0s 4ms/step - loss: 0.2470\n",
            "Epoch 27/30\n",
            "5/5 [==============================] - 0s 3ms/step - loss: 0.2407\n",
            "Epoch 28/30\n",
            "5/5 [==============================] - 0s 4ms/step - loss: 0.2346\n",
            "Epoch 29/30\n",
            "5/5 [==============================] - 0s 4ms/step - loss: 0.2290\n",
            "Epoch 30/30\n",
            "5/5 [==============================] - 0s 3ms/step - loss: 0.2237\n"
          ]
        },
        {
          "output_type": "execute_result",
          "data": {
            "text/plain": [
              "<keras.src.callbacks.History at 0x7fe26f9ba620>"
            ]
          },
          "metadata": {},
          "execution_count": 16
        }
      ],
      "source": [
        "autoencoder.compile(optimizer='adam', loss='mean_squared_error')\n",
        "autoencoder.fit(X_train, X_train, epochs=30, batch_size=64, shuffle=True)"
      ]
    },
    {
      "cell_type": "code",
      "execution_count": null,
      "id": "d8900e93",
      "metadata": {
        "colab": {
          "base_uri": "https://localhost:8080/"
        },
        "id": "d8900e93",
        "outputId": "d49db61d-7b08-4e96-a7c0-2a6063bed4b7"
      },
      "outputs": [
        {
          "output_type": "stream",
          "name": "stdout",
          "text": [
            "10/10 [==============================] - 0s 2ms/step\n"
          ]
        }
      ],
      "source": [
        "train_pred = autoencoder.predict(X_train)\n",
        "train_mse = np.mean(np.square(X_train - train_pred), axis=1)\n",
        "\n",
        "threshold = np.percentile(train_mse, 95)"
      ]
    },
    {
      "cell_type": "code",
      "source": [
        "# threshold=0.55"
      ],
      "metadata": {
        "id": "YDnclJcmZ164"
      },
      "id": "YDnclJcmZ164",
      "execution_count": null,
      "outputs": []
    },
    {
      "cell_type": "code",
      "execution_count": null,
      "id": "3baebd9c",
      "metadata": {
        "colab": {
          "base_uri": "https://localhost:8080/"
        },
        "id": "3baebd9c",
        "outputId": "d92c3e83-f168-4deb-c824-bed00f8900fc"
      },
      "outputs": [
        {
          "output_type": "stream",
          "name": "stdout",
          "text": [
            "10/10 [==============================] - 0s 2ms/step\n"
          ]
        }
      ],
      "source": [
        "all_pred = autoencoder.predict(scaled_features)\n",
        "all_mse = np.mean(np.square(scaled_features - all_pred), axis=1)\n",
        "\n",
        "anomalies = df.loc[all_mse > threshold]"
      ]
    },
    {
      "cell_type": "code",
      "source": [],
      "metadata": {
        "id": "gYWi27sn7ept"
      },
      "id": "gYWi27sn7ept",
      "execution_count": null,
      "outputs": []
    },
    {
      "cell_type": "code",
      "execution_count": null,
      "id": "20b52956",
      "metadata": {
        "colab": {
          "base_uri": "https://localhost:8080/",
          "height": 564
        },
        "id": "20b52956",
        "outputId": "89f34682-1a5e-44c1-aa8c-5b34ec258cee"
      },
      "outputs": [
        {
          "output_type": "display_data",
          "data": {
            "text/plain": [
              "<Figure size 1000x600 with 1 Axes>"
            ],
            "image/png": "[encoded data removed]"
          },
          "metadata": {}
        }
      ],
      "source": [
        "plt.figure(figsize=(10, 6))\n",
        "plt.plot(all_mse, label='Reconstruction Error')\n",
        "# plt.plot(np.where(anomalies, train_mse, None), 'ro', label='Anomalies')\n",
        "plt.axhline(threshold, color='r', linestyle='--', label='Threshold')\n",
        "plt.xlabel('Samples')\n",
        "plt.ylabel('Reconstruction Error')\n",
        "plt.title('Anomaly Detection')\n",
        "plt.legend()\n",
        "plt.show()"
      ]
    },
    {
      "cell_type": "code",
      "execution_count": null,
      "id": "7cbed487",
      "metadata": {
        "id": "7cbed487",
        "outputId": "270b988b-0c13-439e-9b18-0eccc1920071",
        "colab": {
          "base_uri": "https://localhost:8080/"
        }
      },
      "outputs": [
        {
          "output_type": "stream",
          "name": "stderr",
          "text": [
            "/usr/local/lib/python3.10/dist-packages/keras/src/engine/training.py:3000: UserWarning: You are saving your model as an HDF5 file via `model.save()`. This file format is considered legacy. We recommend using instead the native Keras format, e.g. `model.save('my_model.keras')`.\n",
            "  saving_api.save_model(\n"
          ]
        }
      ],
      "source": [
        "autoencoder.save('/content/drive/MyDrive/Anomaly detection/anomalyDetection.h5')\n"
      ]
    },
    {
      "cell_type": "code",
      "execution_count": null,
      "id": "314038d2",
      "metadata": {
        "id": "314038d2"
      },
      "outputs": [],
      "source": []
    }
  ],
  "metadata": {
    "kernelspec": {
      "display_name": "Python 3 (ipykernel)",
      "language": "python",
      "name": "python3"
    },
    "language_info": {
      "codemirror_mode": {
        "name": "ipython",
        "version": 3
      },
      "file_extension": ".py",
      "mimetype": "text/x-python",
      "name": "python",
      "nbconvert_exporter": "python",
      "pygments_lexer": "ipython3",
      "version": "3.10.11"
    },
    "colab": {
      "provenance": []
    }
  },
  "nbformat": 4,
  "nbformat_minor": 5
}